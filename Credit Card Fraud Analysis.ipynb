{
 "cells": [
  {
   "cell_type": "markdown",
   "id": "61c54df9",
   "metadata": {},
   "source": [
    "## Import all the necessary Libraries"
   ]
  },
  {
   "cell_type": "code",
   "execution_count": 1,
   "id": "a9005bf7",
   "metadata": {},
   "outputs": [],
   "source": [
    "import pandas as pd\n",
    "import matplotlib.pyplot as plt\n",
    "import numpy as np\n",
    "import seaborn as sns\n",
    "%matplotlib inline \n",
    "\n",
    "import torch\n",
    "import torch.nn as nn\n",
    "import torch.optim as optim\n",
    "from torch.utils.data import Dataset, DataLoader, WeightedRandomSampler\n",
    "from tqdm.notebook import tqdm\n",
    "\n",
    "from sklearn.preprocessing import MinMaxScaler    \n",
    "from sklearn.model_selection import train_test_split\n",
    "from sklearn.metrics import confusion_matrix, classification_report\n",
    "\n",
    "import warnings\n",
    "warnings.filterwarnings(\"ignore\")"
   ]
  },
  {
   "cell_type": "markdown",
   "id": "347d1ad1",
   "metadata": {},
   "source": [
    "### Exploratory Data Analysis"
   ]
  },
  {
   "cell_type": "code",
   "execution_count": 2,
   "id": "e5e0551f",
   "metadata": {},
   "outputs": [
    {
     "data": {
      "text/html": [
       "<div>\n",
       "<style scoped>\n",
       "    .dataframe tbody tr th:only-of-type {\n",
       "        vertical-align: middle;\n",
       "    }\n",
       "\n",
       "    .dataframe tbody tr th {\n",
       "        vertical-align: top;\n",
       "    }\n",
       "\n",
       "    .dataframe thead th {\n",
       "        text-align: right;\n",
       "    }\n",
       "</style>\n",
       "<table border=\"1\" class=\"dataframe\">\n",
       "  <thead>\n",
       "    <tr style=\"text-align: right;\">\n",
       "      <th></th>\n",
       "      <th>Time</th>\n",
       "      <th>V1</th>\n",
       "      <th>V2</th>\n",
       "      <th>V3</th>\n",
       "      <th>V4</th>\n",
       "      <th>V5</th>\n",
       "      <th>V6</th>\n",
       "      <th>V7</th>\n",
       "      <th>V8</th>\n",
       "      <th>V9</th>\n",
       "      <th>...</th>\n",
       "      <th>V21</th>\n",
       "      <th>V22</th>\n",
       "      <th>V23</th>\n",
       "      <th>V24</th>\n",
       "      <th>V25</th>\n",
       "      <th>V26</th>\n",
       "      <th>V27</th>\n",
       "      <th>V28</th>\n",
       "      <th>Amount</th>\n",
       "      <th>Class</th>\n",
       "    </tr>\n",
       "  </thead>\n",
       "  <tbody>\n",
       "    <tr>\n",
       "      <th>0</th>\n",
       "      <td>2</td>\n",
       "      <td>-1.158233</td>\n",
       "      <td>0.877737</td>\n",
       "      <td>1.548718</td>\n",
       "      <td>0.403034</td>\n",
       "      <td>-0.407193</td>\n",
       "      <td>0.095921</td>\n",
       "      <td>0.592941</td>\n",
       "      <td>-0.270533</td>\n",
       "      <td>0.817739</td>\n",
       "      <td>...</td>\n",
       "      <td>-0.009431</td>\n",
       "      <td>0.798278</td>\n",
       "      <td>-0.137458</td>\n",
       "      <td>0.141267</td>\n",
       "      <td>-0.206010</td>\n",
       "      <td>0.502292</td>\n",
       "      <td>0.219422</td>\n",
       "      <td>0.215153</td>\n",
       "      <td>69.99</td>\n",
       "      <td>0</td>\n",
       "    </tr>\n",
       "    <tr>\n",
       "      <th>1</th>\n",
       "      <td>2</td>\n",
       "      <td>-0.425966</td>\n",
       "      <td>0.960523</td>\n",
       "      <td>1.141109</td>\n",
       "      <td>-0.168252</td>\n",
       "      <td>0.420987</td>\n",
       "      <td>-0.029728</td>\n",
       "      <td>0.476201</td>\n",
       "      <td>0.260314</td>\n",
       "      <td>-0.568671</td>\n",
       "      <td>...</td>\n",
       "      <td>-0.208254</td>\n",
       "      <td>-0.559825</td>\n",
       "      <td>-0.026398</td>\n",
       "      <td>-0.371427</td>\n",
       "      <td>-0.232794</td>\n",
       "      <td>0.105915</td>\n",
       "      <td>0.253844</td>\n",
       "      <td>0.081080</td>\n",
       "      <td>3.67</td>\n",
       "      <td>0</td>\n",
       "    </tr>\n",
       "    <tr>\n",
       "      <th>2</th>\n",
       "      <td>7</td>\n",
       "      <td>-0.644269</td>\n",
       "      <td>1.417964</td>\n",
       "      <td>1.074380</td>\n",
       "      <td>-0.492199</td>\n",
       "      <td>0.948934</td>\n",
       "      <td>0.428118</td>\n",
       "      <td>1.120631</td>\n",
       "      <td>-3.807864</td>\n",
       "      <td>0.615375</td>\n",
       "      <td>...</td>\n",
       "      <td>1.943465</td>\n",
       "      <td>-1.015455</td>\n",
       "      <td>0.057504</td>\n",
       "      <td>-0.649709</td>\n",
       "      <td>-0.415267</td>\n",
       "      <td>-0.051634</td>\n",
       "      <td>-1.206921</td>\n",
       "      <td>-1.085339</td>\n",
       "      <td>40.80</td>\n",
       "      <td>0</td>\n",
       "    </tr>\n",
       "    <tr>\n",
       "      <th>3</th>\n",
       "      <td>11</td>\n",
       "      <td>1.069374</td>\n",
       "      <td>0.287722</td>\n",
       "      <td>0.828613</td>\n",
       "      <td>2.712520</td>\n",
       "      <td>-0.178398</td>\n",
       "      <td>0.337544</td>\n",
       "      <td>-0.096717</td>\n",
       "      <td>0.115982</td>\n",
       "      <td>-0.221083</td>\n",
       "      <td>...</td>\n",
       "      <td>-0.036876</td>\n",
       "      <td>0.074412</td>\n",
       "      <td>-0.071407</td>\n",
       "      <td>0.104744</td>\n",
       "      <td>0.548265</td>\n",
       "      <td>0.104094</td>\n",
       "      <td>0.021491</td>\n",
       "      <td>0.021293</td>\n",
       "      <td>27.50</td>\n",
       "      <td>0</td>\n",
       "    </tr>\n",
       "    <tr>\n",
       "      <th>4</th>\n",
       "      <td>12</td>\n",
       "      <td>-0.752417</td>\n",
       "      <td>0.345485</td>\n",
       "      <td>2.057323</td>\n",
       "      <td>-1.468643</td>\n",
       "      <td>-1.158394</td>\n",
       "      <td>-0.077850</td>\n",
       "      <td>-0.608581</td>\n",
       "      <td>0.003603</td>\n",
       "      <td>-0.436167</td>\n",
       "      <td>...</td>\n",
       "      <td>0.499625</td>\n",
       "      <td>1.353650</td>\n",
       "      <td>-0.256573</td>\n",
       "      <td>-0.065084</td>\n",
       "      <td>-0.039124</td>\n",
       "      <td>-0.087086</td>\n",
       "      <td>-0.180998</td>\n",
       "      <td>0.129394</td>\n",
       "      <td>15.99</td>\n",
       "      <td>0</td>\n",
       "    </tr>\n",
       "  </tbody>\n",
       "</table>\n",
       "<p>5 rows × 31 columns</p>\n",
       "</div>"
      ],
      "text/plain": [
       "   Time        V1        V2        V3        V4        V5        V6        V7  \\\n",
       "0     2 -1.158233  0.877737  1.548718  0.403034 -0.407193  0.095921  0.592941   \n",
       "1     2 -0.425966  0.960523  1.141109 -0.168252  0.420987 -0.029728  0.476201   \n",
       "2     7 -0.644269  1.417964  1.074380 -0.492199  0.948934  0.428118  1.120631   \n",
       "3    11  1.069374  0.287722  0.828613  2.712520 -0.178398  0.337544 -0.096717   \n",
       "4    12 -0.752417  0.345485  2.057323 -1.468643 -1.158394 -0.077850 -0.608581   \n",
       "\n",
       "         V8        V9  ...       V21       V22       V23       V24       V25  \\\n",
       "0 -0.270533  0.817739  ... -0.009431  0.798278 -0.137458  0.141267 -0.206010   \n",
       "1  0.260314 -0.568671  ... -0.208254 -0.559825 -0.026398 -0.371427 -0.232794   \n",
       "2 -3.807864  0.615375  ...  1.943465 -1.015455  0.057504 -0.649709 -0.415267   \n",
       "3  0.115982 -0.221083  ... -0.036876  0.074412 -0.071407  0.104744  0.548265   \n",
       "4  0.003603 -0.436167  ...  0.499625  1.353650 -0.256573 -0.065084 -0.039124   \n",
       "\n",
       "        V26       V27       V28  Amount  Class  \n",
       "0  0.502292  0.219422  0.215153   69.99      0  \n",
       "1  0.105915  0.253844  0.081080    3.67      0  \n",
       "2 -0.051634 -1.206921 -1.085339   40.80      0  \n",
       "3  0.104094  0.021491  0.021293   27.50      0  \n",
       "4 -0.087086 -0.180998  0.129394   15.99      0  \n",
       "\n",
       "[5 rows x 31 columns]"
      ]
     },
     "execution_count": 2,
     "metadata": {},
     "output_type": "execute_result"
    }
   ],
   "source": [
    "credit = pd.read_excel('CreditCardDataset.xlsx')\n",
    "credit.head(5)"
   ]
  },
  {
   "cell_type": "code",
   "execution_count": 3,
   "id": "a335123c",
   "metadata": {},
   "outputs": [
    {
     "data": {
      "text/plain": [
       "(57355, 31)"
      ]
     },
     "execution_count": 3,
     "metadata": {},
     "output_type": "execute_result"
    }
   ],
   "source": [
    "credit.shape"
   ]
  },
  {
   "cell_type": "code",
   "execution_count": 4,
   "id": "38a71020",
   "metadata": {},
   "outputs": [
    {
     "data": {
      "text/plain": [
       "Index(['Time', 'V1', 'V2', 'V3', 'V4', 'V5', 'V6', 'V7', 'V8', 'V9', 'V10',\n",
       "       'V11', 'V12', 'V13', 'V14', 'V15', 'V16', 'V17', 'V18', 'V19', 'V20',\n",
       "       'V21', 'V22', 'V23', 'V24', 'V25', 'V26', 'V27', 'V28', 'Amount',\n",
       "       'Class'],\n",
       "      dtype='object')"
      ]
     },
     "execution_count": 4,
     "metadata": {},
     "output_type": "execute_result"
    }
   ],
   "source": [
    "credit.columns"
   ]
  },
  {
   "cell_type": "code",
   "execution_count": 5,
   "id": "75b4992a",
   "metadata": {
    "scrolled": false
   },
   "outputs": [
    {
     "name": "stdout",
     "output_type": "stream",
     "text": [
      "<class 'pandas.core.frame.DataFrame'>\n",
      "RangeIndex: 57355 entries, 0 to 57354\n",
      "Data columns (total 31 columns):\n",
      " #   Column  Non-Null Count  Dtype  \n",
      "---  ------  --------------  -----  \n",
      " 0   Time    57355 non-null  int64  \n",
      " 1   V1      57355 non-null  float64\n",
      " 2   V2      57355 non-null  float64\n",
      " 3   V3      57355 non-null  float64\n",
      " 4   V4      57355 non-null  float64\n",
      " 5   V5      57355 non-null  float64\n",
      " 6   V6      57355 non-null  float64\n",
      " 7   V7      57355 non-null  float64\n",
      " 8   V8      57355 non-null  float64\n",
      " 9   V9      57355 non-null  float64\n",
      " 10  V10     57355 non-null  float64\n",
      " 11  V11     57355 non-null  float64\n",
      " 12  V12     57355 non-null  float64\n",
      " 13  V13     57355 non-null  float64\n",
      " 14  V14     57355 non-null  float64\n",
      " 15  V15     57355 non-null  float64\n",
      " 16  V16     57355 non-null  float64\n",
      " 17  V17     57355 non-null  float64\n",
      " 18  V18     57355 non-null  float64\n",
      " 19  V19     57355 non-null  float64\n",
      " 20  V20     57355 non-null  float64\n",
      " 21  V21     57355 non-null  float64\n",
      " 22  V22     57355 non-null  float64\n",
      " 23  V23     57355 non-null  float64\n",
      " 24  V24     57355 non-null  float64\n",
      " 25  V25     57355 non-null  float64\n",
      " 26  V26     57355 non-null  float64\n",
      " 27  V27     57355 non-null  float64\n",
      " 28  V28     57355 non-null  float64\n",
      " 29  Amount  57355 non-null  float64\n",
      " 30  Class   57355 non-null  int64  \n",
      "dtypes: float64(29), int64(2)\n",
      "memory usage: 13.6 MB\n"
     ]
    }
   ],
   "source": [
    "credit.info()"
   ]
  },
  {
   "cell_type": "markdown",
   "id": "0a7d350f",
   "metadata": {},
   "source": [
    "## About the Dataset:\n",
    "\n",
    "We have a dataset which contains transactions made by credit cards in September 2013 by European cardholders. We have 57,355 rows and 31 columns. All the columns we have are in numeric form which was obtained after PCA transformation. Due to confidentiality issues, the dataset doesnot have the original features and more background information about the data. \n",
    "\n",
    "Features V1, V2,...., V28 are the principal components obtained with PCA, the only features which have not been transformed with PCA are 'Time' and 'Amount'. The feature 'Time' contains the seconds elapsed between each transaction and the first transaction in the dataset. The 'Amount' is the transaction amount which occured. Feature 'Class' which is our target variable is the response variable and it takes value 1 in case of fraud and 0 otherwise.\n",
    "\n",
    "## Descriptive Analysis"
   ]
  },
  {
   "cell_type": "code",
   "execution_count": 6,
   "id": "0c79d00a",
   "metadata": {
    "scrolled": false
   },
   "outputs": [
    {
     "data": {
      "text/html": [
       "<div>\n",
       "<style scoped>\n",
       "    .dataframe tbody tr th:only-of-type {\n",
       "        vertical-align: middle;\n",
       "    }\n",
       "\n",
       "    .dataframe tbody tr th {\n",
       "        vertical-align: top;\n",
       "    }\n",
       "\n",
       "    .dataframe thead th {\n",
       "        text-align: right;\n",
       "    }\n",
       "</style>\n",
       "<table border=\"1\" class=\"dataframe\">\n",
       "  <thead>\n",
       "    <tr style=\"text-align: right;\">\n",
       "      <th></th>\n",
       "      <th>count</th>\n",
       "      <th>mean</th>\n",
       "      <th>std</th>\n",
       "      <th>min</th>\n",
       "      <th>25%</th>\n",
       "      <th>50%</th>\n",
       "      <th>75%</th>\n",
       "      <th>max</th>\n",
       "    </tr>\n",
       "  </thead>\n",
       "  <tbody>\n",
       "    <tr>\n",
       "      <th>Time</th>\n",
       "      <td>57355.0</td>\n",
       "      <td>94577.357074</td>\n",
       "      <td>47505.713234</td>\n",
       "      <td>2.000000</td>\n",
       "      <td>53943.500000</td>\n",
       "      <td>84641.000000</td>\n",
       "      <td>139140.000000</td>\n",
       "      <td>172777.000000</td>\n",
       "    </tr>\n",
       "    <tr>\n",
       "      <th>V1</th>\n",
       "      <td>57355.0</td>\n",
       "      <td>-0.029092</td>\n",
       "      <td>2.061391</td>\n",
       "      <td>-36.802320</td>\n",
       "      <td>-0.927615</td>\n",
       "      <td>0.015980</td>\n",
       "      <td>1.314129</td>\n",
       "      <td>2.454930</td>\n",
       "    </tr>\n",
       "    <tr>\n",
       "      <th>V2</th>\n",
       "      <td>57355.0</td>\n",
       "      <td>0.030156</td>\n",
       "      <td>1.711228</td>\n",
       "      <td>-63.344698</td>\n",
       "      <td>-0.588747</td>\n",
       "      <td>0.071801</td>\n",
       "      <td>0.815413</td>\n",
       "      <td>22.057729</td>\n",
       "    </tr>\n",
       "    <tr>\n",
       "      <th>V3</th>\n",
       "      <td>57355.0</td>\n",
       "      <td>-0.055749</td>\n",
       "      <td>1.733364</td>\n",
       "      <td>-48.325589</td>\n",
       "      <td>-0.922554</td>\n",
       "      <td>0.168619</td>\n",
       "      <td>1.019384</td>\n",
       "      <td>3.940337</td>\n",
       "    </tr>\n",
       "    <tr>\n",
       "      <th>V4</th>\n",
       "      <td>57355.0</td>\n",
       "      <td>0.035521</td>\n",
       "      <td>1.484621</td>\n",
       "      <td>-5.519697</td>\n",
       "      <td>-0.839400</td>\n",
       "      <td>-0.005637</td>\n",
       "      <td>0.764271</td>\n",
       "      <td>16.715537</td>\n",
       "    </tr>\n",
       "    <tr>\n",
       "      <th>V5</th>\n",
       "      <td>57355.0</td>\n",
       "      <td>-0.022664</td>\n",
       "      <td>1.508300</td>\n",
       "      <td>-113.743307</td>\n",
       "      <td>-0.692157</td>\n",
       "      <td>-0.055913</td>\n",
       "      <td>0.607021</td>\n",
       "      <td>28.762671</td>\n",
       "    </tr>\n",
       "    <tr>\n",
       "      <th>V6</th>\n",
       "      <td>57355.0</td>\n",
       "      <td>-0.006869</td>\n",
       "      <td>1.361819</td>\n",
       "      <td>-19.996349</td>\n",
       "      <td>-0.774796</td>\n",
       "      <td>-0.276163</td>\n",
       "      <td>0.387408</td>\n",
       "      <td>73.301626</td>\n",
       "    </tr>\n",
       "    <tr>\n",
       "      <th>V7</th>\n",
       "      <td>57355.0</td>\n",
       "      <td>-0.032448</td>\n",
       "      <td>1.504317</td>\n",
       "      <td>-43.557242</td>\n",
       "      <td>-0.558211</td>\n",
       "      <td>0.035797</td>\n",
       "      <td>0.562758</td>\n",
       "      <td>120.589494</td>\n",
       "    </tr>\n",
       "    <tr>\n",
       "      <th>V8</th>\n",
       "      <td>57355.0</td>\n",
       "      <td>0.006142</td>\n",
       "      <td>1.334058</td>\n",
       "      <td>-73.216718</td>\n",
       "      <td>-0.207145</td>\n",
       "      <td>0.024380</td>\n",
       "      <td>0.333358</td>\n",
       "      <td>20.007208</td>\n",
       "    </tr>\n",
       "    <tr>\n",
       "      <th>V9</th>\n",
       "      <td>57355.0</td>\n",
       "      <td>-0.017667</td>\n",
       "      <td>1.131679</td>\n",
       "      <td>-13.434066</td>\n",
       "      <td>-0.651869</td>\n",
       "      <td>-0.053373</td>\n",
       "      <td>0.599522</td>\n",
       "      <td>10.348407</td>\n",
       "    </tr>\n",
       "    <tr>\n",
       "      <th>V10</th>\n",
       "      <td>57355.0</td>\n",
       "      <td>-0.039325</td>\n",
       "      <td>1.249487</td>\n",
       "      <td>-24.588262</td>\n",
       "      <td>-0.546984</td>\n",
       "      <td>-0.096380</td>\n",
       "      <td>0.449840</td>\n",
       "      <td>15.236028</td>\n",
       "    </tr>\n",
       "    <tr>\n",
       "      <th>V11</th>\n",
       "      <td>57355.0</td>\n",
       "      <td>0.029209</td>\n",
       "      <td>1.084582</td>\n",
       "      <td>-4.797473</td>\n",
       "      <td>-0.748306</td>\n",
       "      <td>-0.017804</td>\n",
       "      <td>0.749983</td>\n",
       "      <td>12.018913</td>\n",
       "    </tr>\n",
       "    <tr>\n",
       "      <th>V12</th>\n",
       "      <td>57355.0</td>\n",
       "      <td>-0.043786</td>\n",
       "      <td>1.185122</td>\n",
       "      <td>-18.683715</td>\n",
       "      <td>-0.420415</td>\n",
       "      <td>0.134978</td>\n",
       "      <td>0.615004</td>\n",
       "      <td>7.848392</td>\n",
       "    </tr>\n",
       "    <tr>\n",
       "      <th>V13</th>\n",
       "      <td>57355.0</td>\n",
       "      <td>-0.006537</td>\n",
       "      <td>0.999783</td>\n",
       "      <td>-5.791881</td>\n",
       "      <td>-0.659069</td>\n",
       "      <td>-0.017744</td>\n",
       "      <td>0.656872</td>\n",
       "      <td>7.126883</td>\n",
       "    </tr>\n",
       "    <tr>\n",
       "      <th>V14</th>\n",
       "      <td>57355.0</td>\n",
       "      <td>-0.049769</td>\n",
       "      <td>1.172697</td>\n",
       "      <td>-19.214325</td>\n",
       "      <td>-0.441046</td>\n",
       "      <td>0.042057</td>\n",
       "      <td>0.491685</td>\n",
       "      <td>10.526766</td>\n",
       "    </tr>\n",
       "    <tr>\n",
       "      <th>V15</th>\n",
       "      <td>57355.0</td>\n",
       "      <td>-0.000427</td>\n",
       "      <td>0.914149</td>\n",
       "      <td>-4.498945</td>\n",
       "      <td>-0.581440</td>\n",
       "      <td>0.051018</td>\n",
       "      <td>0.644217</td>\n",
       "      <td>8.877742</td>\n",
       "    </tr>\n",
       "    <tr>\n",
       "      <th>V16</th>\n",
       "      <td>57355.0</td>\n",
       "      <td>-0.027534</td>\n",
       "      <td>0.992960</td>\n",
       "      <td>-14.129855</td>\n",
       "      <td>-0.478783</td>\n",
       "      <td>0.064118</td>\n",
       "      <td>0.522200</td>\n",
       "      <td>17.315112</td>\n",
       "    </tr>\n",
       "    <tr>\n",
       "      <th>V17</th>\n",
       "      <td>57355.0</td>\n",
       "      <td>-0.041866</td>\n",
       "      <td>1.165846</td>\n",
       "      <td>-25.162799</td>\n",
       "      <td>-0.487307</td>\n",
       "      <td>-0.066928</td>\n",
       "      <td>0.400716</td>\n",
       "      <td>9.253526</td>\n",
       "    </tr>\n",
       "    <tr>\n",
       "      <th>V18</th>\n",
       "      <td>57355.0</td>\n",
       "      <td>-0.015811</td>\n",
       "      <td>0.888156</td>\n",
       "      <td>-9.498746</td>\n",
       "      <td>-0.503227</td>\n",
       "      <td>-0.005686</td>\n",
       "      <td>0.499993</td>\n",
       "      <td>5.041069</td>\n",
       "    </tr>\n",
       "    <tr>\n",
       "      <th>V19</th>\n",
       "      <td>57355.0</td>\n",
       "      <td>-0.001586</td>\n",
       "      <td>0.819859</td>\n",
       "      <td>-7.213527</td>\n",
       "      <td>-0.460508</td>\n",
       "      <td>0.001651</td>\n",
       "      <td>0.459027</td>\n",
       "      <td>5.591971</td>\n",
       "    </tr>\n",
       "    <tr>\n",
       "      <th>V20</th>\n",
       "      <td>57355.0</td>\n",
       "      <td>0.000960</td>\n",
       "      <td>0.822197</td>\n",
       "      <td>-54.497720</td>\n",
       "      <td>-0.214275</td>\n",
       "      <td>-0.063253</td>\n",
       "      <td>0.133280</td>\n",
       "      <td>39.420904</td>\n",
       "    </tr>\n",
       "    <tr>\n",
       "      <th>V21</th>\n",
       "      <td>57355.0</td>\n",
       "      <td>0.005569</td>\n",
       "      <td>0.813950</td>\n",
       "      <td>-34.830382</td>\n",
       "      <td>-0.226932</td>\n",
       "      <td>-0.028379</td>\n",
       "      <td>0.190245</td>\n",
       "      <td>27.202839</td>\n",
       "    </tr>\n",
       "    <tr>\n",
       "      <th>V22</th>\n",
       "      <td>57355.0</td>\n",
       "      <td>-0.000265</td>\n",
       "      <td>0.734597</td>\n",
       "      <td>-10.933144</td>\n",
       "      <td>-0.541278</td>\n",
       "      <td>0.004681</td>\n",
       "      <td>0.529286</td>\n",
       "      <td>10.503090</td>\n",
       "    </tr>\n",
       "    <tr>\n",
       "      <th>V23</th>\n",
       "      <td>57355.0</td>\n",
       "      <td>0.003273</td>\n",
       "      <td>0.625238</td>\n",
       "      <td>-32.828995</td>\n",
       "      <td>-0.161812</td>\n",
       "      <td>-0.011439</td>\n",
       "      <td>0.147282</td>\n",
       "      <td>22.528412</td>\n",
       "    </tr>\n",
       "    <tr>\n",
       "      <th>V24</th>\n",
       "      <td>57355.0</td>\n",
       "      <td>0.001159</td>\n",
       "      <td>0.604653</td>\n",
       "      <td>-2.822384</td>\n",
       "      <td>-0.354648</td>\n",
       "      <td>0.041286</td>\n",
       "      <td>0.439244</td>\n",
       "      <td>4.584549</td>\n",
       "    </tr>\n",
       "    <tr>\n",
       "      <th>V25</th>\n",
       "      <td>57355.0</td>\n",
       "      <td>0.005003</td>\n",
       "      <td>0.519852</td>\n",
       "      <td>-8.696627</td>\n",
       "      <td>-0.312164</td>\n",
       "      <td>0.021494</td>\n",
       "      <td>0.352590</td>\n",
       "      <td>5.826159</td>\n",
       "    </tr>\n",
       "    <tr>\n",
       "      <th>V26</th>\n",
       "      <td>57355.0</td>\n",
       "      <td>0.003133</td>\n",
       "      <td>0.482496</td>\n",
       "      <td>-2.534330</td>\n",
       "      <td>-0.322536</td>\n",
       "      <td>-0.049135</td>\n",
       "      <td>0.243882</td>\n",
       "      <td>3.517346</td>\n",
       "    </tr>\n",
       "    <tr>\n",
       "      <th>V27</th>\n",
       "      <td>57355.0</td>\n",
       "      <td>0.000226</td>\n",
       "      <td>0.433713</td>\n",
       "      <td>-8.878665</td>\n",
       "      <td>-0.070642</td>\n",
       "      <td>0.000859</td>\n",
       "      <td>0.091355</td>\n",
       "      <td>31.612198</td>\n",
       "    </tr>\n",
       "    <tr>\n",
       "      <th>V28</th>\n",
       "      <td>57355.0</td>\n",
       "      <td>-0.000625</td>\n",
       "      <td>0.323980</td>\n",
       "      <td>-15.430084</td>\n",
       "      <td>-0.052695</td>\n",
       "      <td>0.011169</td>\n",
       "      <td>0.078500</td>\n",
       "      <td>15.866721</td>\n",
       "    </tr>\n",
       "    <tr>\n",
       "      <th>Amount</th>\n",
       "      <td>57355.0</td>\n",
       "      <td>88.825575</td>\n",
       "      <td>279.496913</td>\n",
       "      <td>0.000000</td>\n",
       "      <td>5.475000</td>\n",
       "      <td>21.990000</td>\n",
       "      <td>76.900000</td>\n",
       "      <td>25691.160000</td>\n",
       "    </tr>\n",
       "    <tr>\n",
       "      <th>Class</th>\n",
       "      <td>57355.0</td>\n",
       "      <td>0.008578</td>\n",
       "      <td>0.092221</td>\n",
       "      <td>0.000000</td>\n",
       "      <td>0.000000</td>\n",
       "      <td>0.000000</td>\n",
       "      <td>0.000000</td>\n",
       "      <td>1.000000</td>\n",
       "    </tr>\n",
       "  </tbody>\n",
       "</table>\n",
       "</div>"
      ],
      "text/plain": [
       "          count          mean           std         min           25%  \\\n",
       "Time    57355.0  94577.357074  47505.713234    2.000000  53943.500000   \n",
       "V1      57355.0     -0.029092      2.061391  -36.802320     -0.927615   \n",
       "V2      57355.0      0.030156      1.711228  -63.344698     -0.588747   \n",
       "V3      57355.0     -0.055749      1.733364  -48.325589     -0.922554   \n",
       "V4      57355.0      0.035521      1.484621   -5.519697     -0.839400   \n",
       "V5      57355.0     -0.022664      1.508300 -113.743307     -0.692157   \n",
       "V6      57355.0     -0.006869      1.361819  -19.996349     -0.774796   \n",
       "V7      57355.0     -0.032448      1.504317  -43.557242     -0.558211   \n",
       "V8      57355.0      0.006142      1.334058  -73.216718     -0.207145   \n",
       "V9      57355.0     -0.017667      1.131679  -13.434066     -0.651869   \n",
       "V10     57355.0     -0.039325      1.249487  -24.588262     -0.546984   \n",
       "V11     57355.0      0.029209      1.084582   -4.797473     -0.748306   \n",
       "V12     57355.0     -0.043786      1.185122  -18.683715     -0.420415   \n",
       "V13     57355.0     -0.006537      0.999783   -5.791881     -0.659069   \n",
       "V14     57355.0     -0.049769      1.172697  -19.214325     -0.441046   \n",
       "V15     57355.0     -0.000427      0.914149   -4.498945     -0.581440   \n",
       "V16     57355.0     -0.027534      0.992960  -14.129855     -0.478783   \n",
       "V17     57355.0     -0.041866      1.165846  -25.162799     -0.487307   \n",
       "V18     57355.0     -0.015811      0.888156   -9.498746     -0.503227   \n",
       "V19     57355.0     -0.001586      0.819859   -7.213527     -0.460508   \n",
       "V20     57355.0      0.000960      0.822197  -54.497720     -0.214275   \n",
       "V21     57355.0      0.005569      0.813950  -34.830382     -0.226932   \n",
       "V22     57355.0     -0.000265      0.734597  -10.933144     -0.541278   \n",
       "V23     57355.0      0.003273      0.625238  -32.828995     -0.161812   \n",
       "V24     57355.0      0.001159      0.604653   -2.822384     -0.354648   \n",
       "V25     57355.0      0.005003      0.519852   -8.696627     -0.312164   \n",
       "V26     57355.0      0.003133      0.482496   -2.534330     -0.322536   \n",
       "V27     57355.0      0.000226      0.433713   -8.878665     -0.070642   \n",
       "V28     57355.0     -0.000625      0.323980  -15.430084     -0.052695   \n",
       "Amount  57355.0     88.825575    279.496913    0.000000      5.475000   \n",
       "Class   57355.0      0.008578      0.092221    0.000000      0.000000   \n",
       "\n",
       "                 50%            75%            max  \n",
       "Time    84641.000000  139140.000000  172777.000000  \n",
       "V1          0.015980       1.314129       2.454930  \n",
       "V2          0.071801       0.815413      22.057729  \n",
       "V3          0.168619       1.019384       3.940337  \n",
       "V4         -0.005637       0.764271      16.715537  \n",
       "V5         -0.055913       0.607021      28.762671  \n",
       "V6         -0.276163       0.387408      73.301626  \n",
       "V7          0.035797       0.562758     120.589494  \n",
       "V8          0.024380       0.333358      20.007208  \n",
       "V9         -0.053373       0.599522      10.348407  \n",
       "V10        -0.096380       0.449840      15.236028  \n",
       "V11        -0.017804       0.749983      12.018913  \n",
       "V12         0.134978       0.615004       7.848392  \n",
       "V13        -0.017744       0.656872       7.126883  \n",
       "V14         0.042057       0.491685      10.526766  \n",
       "V15         0.051018       0.644217       8.877742  \n",
       "V16         0.064118       0.522200      17.315112  \n",
       "V17        -0.066928       0.400716       9.253526  \n",
       "V18        -0.005686       0.499993       5.041069  \n",
       "V19         0.001651       0.459027       5.591971  \n",
       "V20        -0.063253       0.133280      39.420904  \n",
       "V21        -0.028379       0.190245      27.202839  \n",
       "V22         0.004681       0.529286      10.503090  \n",
       "V23        -0.011439       0.147282      22.528412  \n",
       "V24         0.041286       0.439244       4.584549  \n",
       "V25         0.021494       0.352590       5.826159  \n",
       "V26        -0.049135       0.243882       3.517346  \n",
       "V27         0.000859       0.091355      31.612198  \n",
       "V28         0.011169       0.078500      15.866721  \n",
       "Amount     21.990000      76.900000   25691.160000  \n",
       "Class       0.000000       0.000000       1.000000  "
      ]
     },
     "execution_count": 6,
     "metadata": {},
     "output_type": "execute_result"
    }
   ],
   "source": [
    "credit.describe().T"
   ]
  },
  {
   "cell_type": "markdown",
   "id": "761fe515",
   "metadata": {},
   "source": [
    "> Most of our features are in small values and some are in negative values also except time and amount. However, this can be changed in the feature scaling process.\n",
    "\n",
    "## Data Cleaning:"
   ]
  },
  {
   "cell_type": "code",
   "execution_count": 7,
   "id": "25ddefbc",
   "metadata": {},
   "outputs": [
    {
     "data": {
      "text/plain": [
       "Time      0\n",
       "V1        0\n",
       "V2        0\n",
       "V3        0\n",
       "V4        0\n",
       "V5        0\n",
       "V6        0\n",
       "V7        0\n",
       "V8        0\n",
       "V9        0\n",
       "V10       0\n",
       "V11       0\n",
       "V12       0\n",
       "V13       0\n",
       "V14       0\n",
       "V15       0\n",
       "V16       0\n",
       "V17       0\n",
       "V18       0\n",
       "V19       0\n",
       "V20       0\n",
       "V21       0\n",
       "V22       0\n",
       "V23       0\n",
       "V24       0\n",
       "V25       0\n",
       "V26       0\n",
       "V27       0\n",
       "V28       0\n",
       "Amount    0\n",
       "Class     0\n",
       "dtype: int64"
      ]
     },
     "execution_count": 7,
     "metadata": {},
     "output_type": "execute_result"
    }
   ],
   "source": [
    "credit.isna().sum()"
   ]
  },
  {
   "cell_type": "code",
   "execution_count": 8,
   "id": "4f67148c",
   "metadata": {},
   "outputs": [
    {
     "data": {
      "text/plain": [
       "93"
      ]
     },
     "execution_count": 8,
     "metadata": {},
     "output_type": "execute_result"
    }
   ],
   "source": [
    "credit.duplicated().sum()"
   ]
  },
  {
   "cell_type": "code",
   "execution_count": 9,
   "id": "77f70e6e",
   "metadata": {},
   "outputs": [
    {
     "data": {
      "text/plain": [
       "(57262, 31)"
      ]
     },
     "execution_count": 9,
     "metadata": {},
     "output_type": "execute_result"
    }
   ],
   "source": [
    "#removing the duplicate values form the dataset\n",
    "\n",
    "credit.drop_duplicates(inplace = True)\n",
    "credit.shape"
   ]
  },
  {
   "cell_type": "markdown",
   "id": "cc513382",
   "metadata": {},
   "source": [
    "> The dataset doesn't have any missing values. However, it does contain some duplicate values. We will be removing them as they do not add any additional value to our model in the learning process and can make our model slow.\n",
    "\n",
    "\n",
    "### Looking into the target variable i.e., Class feature"
   ]
  },
  {
   "cell_type": "code",
   "execution_count": 10,
   "id": "c8e9fea8",
   "metadata": {},
   "outputs": [
    {
     "data": {
      "text/plain": [
       "0    56789\n",
       "1      473\n",
       "Name: Class, dtype: int64"
      ]
     },
     "execution_count": 10,
     "metadata": {},
     "output_type": "execute_result"
    }
   ],
   "source": [
    "credit['Class'].value_counts()"
   ]
  },
  {
   "cell_type": "code",
   "execution_count": 11,
   "id": "b70419b4",
   "metadata": {},
   "outputs": [
    {
     "data": {
      "image/png": "[encoded data removed]",
      "text/plain": [
       "<Figure size 864x576 with 1 Axes>"
      ]
     },
     "metadata": {
      "needs_background": "light"
     },
     "output_type": "display_data"
    }
   ],
   "source": [
    "    \n",
    "plt.figure(figsize=(12,8))\n",
    "ax = sns.countplot(x='Class', data=credit)\n",
    "plt.title('Count of Class')\n",
    "plt.xlabel('Class')\n",
    "plt.ylabel('Count (in numbers)')\n",
    "\n",
    "for p in ax.patches:\n",
    "        ax.annotate('{:.1f}'.format(p.get_height()), (p.get_x()+.3, p.get_height()+6))"
   ]
  },
  {
   "cell_type": "markdown",
   "id": "02a7f56c",
   "metadata": {},
   "source": [
    "We can clearly see that, our classes are imbalanced. So, we need to handle them as well. We can either equally divided i.e, stratify the data or oversample the lower class or undersampling the high class feature which is 1 in our case. We will be using stratify technique for the balancing of the data. \n",
    "\n",
    "## Outlier Handling:\n",
    "\n",
    "Outliers are some of the hardest problem to resolve during data processing. Because, if there is large no. or high outliers, we tend to deviate from our true result. So, we need to remove them.\n",
    "\n",
    "However, removing them haphazard will cause a lot of data points to be removed from our dataset. We need to maintain a balance between removing the data point and keeping them within a certain range. Thats why the process is usually refered as outlier handling rather than outlier removel"
   ]
  },
  {
   "cell_type": "code",
   "execution_count": 12,
   "id": "9336ae0d",
   "metadata": {},
   "outputs": [
    {
     "data": {
      "image/png": "[encoded data removed]",
      "text/plain": [
       "<Figure size 1296x2160 with 30 Axes>"
      ]
     },
     "metadata": {
      "needs_background": "light"
     },
     "output_type": "display_data"
    }
   ],
   "source": [
    "count = 0\n",
    "credit_cols= [col_name for col_name in credit.columns if credit[col_name].dtype in [\"float\"]]\n",
    "credit_cols.append(\"Time\")\n",
    "\n",
    "fig, ax = plt.subplots(nrows=10, ncols=3,figsize=(18,30))\n",
    "\n",
    "for i in range(ax.shape[0]):\n",
    "    for j in range(ax.shape[1]):\n",
    "        sns.boxplot(data=credit,x = credit_cols[count],ax=ax[i][j])\n",
    "        count +=1"
   ]
  },
  {
   "cell_type": "markdown",
   "id": "58222009",
   "metadata": {},
   "source": [
    "> As, we can see that, we have a lot of outliers except in Time feature. We cannot remove/handle the outliers by different fashion. Here, we are doing it with the Z score way. "
   ]
  },
  {
   "cell_type": "code",
   "execution_count": 13,
   "id": "0c82b2bf",
   "metadata": {},
   "outputs": [
    {
     "data": {
      "text/plain": [
       "(47827, 31)"
      ]
     },
     "execution_count": 13,
     "metadata": {},
     "output_type": "execute_result"
    }
   ],
   "source": [
    "from scipy.stats import zscore\n",
    "\n",
    "z=np.abs(zscore(credit))\n",
    "threshold=2.75\n",
    "np.where(z>threshold)\n",
    "\n",
    "credit_outlier_removed=credit[(z<threshold).all(axis=1)].reset_index()\n",
    "credit_outlier_removed.drop(['index'],axis=1,inplace=True)\n",
    "credit_outlier_removed.shape"
   ]
  },
  {
   "cell_type": "code",
   "execution_count": 14,
   "id": "146439ef",
   "metadata": {},
   "outputs": [
    {
     "data": {
      "text/plain": [
       "9528"
      ]
     },
     "execution_count": 14,
     "metadata": {},
     "output_type": "execute_result"
    }
   ],
   "source": [
    "57355 - 47827"
   ]
  },
  {
   "cell_type": "code",
   "execution_count": 15,
   "id": "0882f037",
   "metadata": {},
   "outputs": [
    {
     "data": {
      "image/png": "[encoded data removed]",
      "text/plain": [
       "<Figure size 1296x2160 with 30 Axes>"
      ]
     },
     "metadata": {
      "needs_background": "light"
     },
     "output_type": "display_data"
    }
   ],
   "source": [
    "count = 0\n",
    "\n",
    "fig, ax = plt.subplots(nrows=10, ncols=3,figsize=(18,30))\n",
    "\n",
    "for i in range(ax.shape[0]):\n",
    "    for j in range(ax.shape[1]):\n",
    "        sns.boxplot(data=credit_outlier_removed,x = credit_cols[count],ax=ax[i][j])\n",
    "        count +=1"
   ]
  },
  {
   "cell_type": "markdown",
   "id": "ae4f0f27",
   "metadata": {},
   "source": [
    "> Here, we can see that, there is some outliers still in the data, but we have to ignore it. And we have lost 9528 of data from this procedure. But, moving forward with this outlier removed data lets see, how it has affected our classes."
   ]
  },
  {
   "cell_type": "code",
   "execution_count": 16,
   "id": "5c93e722",
   "metadata": {},
   "outputs": [
    {
     "data": {
      "text/plain": [
       "0    47827\n",
       "Name: Class, dtype: int64"
      ]
     },
     "execution_count": 16,
     "metadata": {},
     "output_type": "execute_result"
    }
   ],
   "source": [
    "credit_outlier_removed['Class'].value_counts()"
   ]
  },
  {
   "cell_type": "markdown",
   "id": "6ed7234b",
   "metadata": {},
   "source": [
    "> By outlier removal process, we have also removed all the data which was related to class 0 which is unaccaptable. So, for this reason, we cannot used the outlier removed dataset and we are going to use the orginal dataset.\n",
    "\n",
    "## Check the distribution of data using histograms"
   ]
  },
  {
   "cell_type": "code",
   "execution_count": 17,
   "id": "7d11422b",
   "metadata": {
    "scrolled": false
   },
   "outputs": [
    {
     "data": {
      "image/png": "[encoded data removed]",
      "text/plain": [
       "<Figure size 1296x2160 with 30 Axes>"
      ]
     },
     "metadata": {
      "needs_background": "light"
     },
     "output_type": "display_data"
    }
   ],
   "source": [
    "count = 0\n",
    "\n",
    "fig, ax = plt.subplots(nrows=10, ncols=3,figsize=(18,30))\n",
    "\n",
    "for i in range(ax.shape[0]):\n",
    "    for j in range(ax.shape[1]):\n",
    "        sns.histplot(data=credit,x = credit_cols[count],ax=ax[i][j])\n",
    "        count +=1"
   ]
  },
  {
   "cell_type": "markdown",
   "id": "d7431f29",
   "metadata": {},
   "source": [
    "Most of the features in our dataset seems to be normally distributed. Meaning the dataset is ready for the scaling process. In short, we don't have to do any outlier handling due to loss of data and any transformation as most of the features in our dataset is normally distributed.\n",
    "\n",
    "## Feature Scaling: \n",
    "\n",
    "Feature Scaling helps us to standarize all the features we have into one scale. It is a standard practise to do as it will remove any kind of abnormality in the dataset. Here, in the dataset, we need to feature scale all the variable except Class which is our target variable. For the feature scaling, we will be using MinMaxScaler method from Sklearn library. \n",
    "\n",
    "Before, feature scaling, we will be separating the features and target variable and we will be splitting them into train, validate and test dataset. And then we will apply MixMaxScaler to scale our data. This is done to avoid data leakage."
   ]
  },
  {
   "cell_type": "code",
   "execution_count": 18,
   "id": "b8c04264",
   "metadata": {},
   "outputs": [
    {
     "data": {
      "text/html": [
       "<div>\n",
       "<style scoped>\n",
       "    .dataframe tbody tr th:only-of-type {\n",
       "        vertical-align: middle;\n",
       "    }\n",
       "\n",
       "    .dataframe tbody tr th {\n",
       "        vertical-align: top;\n",
       "    }\n",
       "\n",
       "    .dataframe thead th {\n",
       "        text-align: right;\n",
       "    }\n",
       "</style>\n",
       "<table border=\"1\" class=\"dataframe\">\n",
       "  <thead>\n",
       "    <tr style=\"text-align: right;\">\n",
       "      <th></th>\n",
       "      <th>Time</th>\n",
       "      <th>V1</th>\n",
       "      <th>V2</th>\n",
       "      <th>V3</th>\n",
       "      <th>V4</th>\n",
       "      <th>V5</th>\n",
       "      <th>V6</th>\n",
       "      <th>V7</th>\n",
       "      <th>V8</th>\n",
       "      <th>V9</th>\n",
       "      <th>...</th>\n",
       "      <th>V21</th>\n",
       "      <th>V22</th>\n",
       "      <th>V23</th>\n",
       "      <th>V24</th>\n",
       "      <th>V25</th>\n",
       "      <th>V26</th>\n",
       "      <th>V27</th>\n",
       "      <th>V28</th>\n",
       "      <th>Amount</th>\n",
       "      <th>Class</th>\n",
       "    </tr>\n",
       "  </thead>\n",
       "  <tbody>\n",
       "    <tr>\n",
       "      <th>0</th>\n",
       "      <td>2</td>\n",
       "      <td>-1.158233</td>\n",
       "      <td>0.877737</td>\n",
       "      <td>1.548718</td>\n",
       "      <td>0.403034</td>\n",
       "      <td>-0.407193</td>\n",
       "      <td>0.095921</td>\n",
       "      <td>0.592941</td>\n",
       "      <td>-0.270533</td>\n",
       "      <td>0.817739</td>\n",
       "      <td>...</td>\n",
       "      <td>-0.009431</td>\n",
       "      <td>0.798278</td>\n",
       "      <td>-0.137458</td>\n",
       "      <td>0.141267</td>\n",
       "      <td>-0.206010</td>\n",
       "      <td>0.502292</td>\n",
       "      <td>0.219422</td>\n",
       "      <td>0.215153</td>\n",
       "      <td>69.99</td>\n",
       "      <td>0</td>\n",
       "    </tr>\n",
       "    <tr>\n",
       "      <th>1</th>\n",
       "      <td>2</td>\n",
       "      <td>-0.425966</td>\n",
       "      <td>0.960523</td>\n",
       "      <td>1.141109</td>\n",
       "      <td>-0.168252</td>\n",
       "      <td>0.420987</td>\n",
       "      <td>-0.029728</td>\n",
       "      <td>0.476201</td>\n",
       "      <td>0.260314</td>\n",
       "      <td>-0.568671</td>\n",
       "      <td>...</td>\n",
       "      <td>-0.208254</td>\n",
       "      <td>-0.559825</td>\n",
       "      <td>-0.026398</td>\n",
       "      <td>-0.371427</td>\n",
       "      <td>-0.232794</td>\n",
       "      <td>0.105915</td>\n",
       "      <td>0.253844</td>\n",
       "      <td>0.081080</td>\n",
       "      <td>3.67</td>\n",
       "      <td>0</td>\n",
       "    </tr>\n",
       "    <tr>\n",
       "      <th>2</th>\n",
       "      <td>7</td>\n",
       "      <td>-0.644269</td>\n",
       "      <td>1.417964</td>\n",
       "      <td>1.074380</td>\n",
       "      <td>-0.492199</td>\n",
       "      <td>0.948934</td>\n",
       "      <td>0.428118</td>\n",
       "      <td>1.120631</td>\n",
       "      <td>-3.807864</td>\n",
       "      <td>0.615375</td>\n",
       "      <td>...</td>\n",
       "      <td>1.943465</td>\n",
       "      <td>-1.015455</td>\n",
       "      <td>0.057504</td>\n",
       "      <td>-0.649709</td>\n",
       "      <td>-0.415267</td>\n",
       "      <td>-0.051634</td>\n",
       "      <td>-1.206921</td>\n",
       "      <td>-1.085339</td>\n",
       "      <td>40.80</td>\n",
       "      <td>0</td>\n",
       "    </tr>\n",
       "    <tr>\n",
       "      <th>3</th>\n",
       "      <td>11</td>\n",
       "      <td>1.069374</td>\n",
       "      <td>0.287722</td>\n",
       "      <td>0.828613</td>\n",
       "      <td>2.712520</td>\n",
       "      <td>-0.178398</td>\n",
       "      <td>0.337544</td>\n",
       "      <td>-0.096717</td>\n",
       "      <td>0.115982</td>\n",
       "      <td>-0.221083</td>\n",
       "      <td>...</td>\n",
       "      <td>-0.036876</td>\n",
       "      <td>0.074412</td>\n",
       "      <td>-0.071407</td>\n",
       "      <td>0.104744</td>\n",
       "      <td>0.548265</td>\n",
       "      <td>0.104094</td>\n",
       "      <td>0.021491</td>\n",
       "      <td>0.021293</td>\n",
       "      <td>27.50</td>\n",
       "      <td>0</td>\n",
       "    </tr>\n",
       "    <tr>\n",
       "      <th>4</th>\n",
       "      <td>12</td>\n",
       "      <td>-0.752417</td>\n",
       "      <td>0.345485</td>\n",
       "      <td>2.057323</td>\n",
       "      <td>-1.468643</td>\n",
       "      <td>-1.158394</td>\n",
       "      <td>-0.077850</td>\n",
       "      <td>-0.608581</td>\n",
       "      <td>0.003603</td>\n",
       "      <td>-0.436167</td>\n",
       "      <td>...</td>\n",
       "      <td>0.499625</td>\n",
       "      <td>1.353650</td>\n",
       "      <td>-0.256573</td>\n",
       "      <td>-0.065084</td>\n",
       "      <td>-0.039124</td>\n",
       "      <td>-0.087086</td>\n",
       "      <td>-0.180998</td>\n",
       "      <td>0.129394</td>\n",
       "      <td>15.99</td>\n",
       "      <td>0</td>\n",
       "    </tr>\n",
       "    <tr>\n",
       "      <th>...</th>\n",
       "      <td>...</td>\n",
       "      <td>...</td>\n",
       "      <td>...</td>\n",
       "      <td>...</td>\n",
       "      <td>...</td>\n",
       "      <td>...</td>\n",
       "      <td>...</td>\n",
       "      <td>...</td>\n",
       "      <td>...</td>\n",
       "      <td>...</td>\n",
       "      <td>...</td>\n",
       "      <td>...</td>\n",
       "      <td>...</td>\n",
       "      <td>...</td>\n",
       "      <td>...</td>\n",
       "      <td>...</td>\n",
       "      <td>...</td>\n",
       "      <td>...</td>\n",
       "      <td>...</td>\n",
       "      <td>...</td>\n",
       "      <td>...</td>\n",
       "    </tr>\n",
       "    <tr>\n",
       "      <th>57350</th>\n",
       "      <td>172751</td>\n",
       "      <td>2.085387</td>\n",
       "      <td>-0.033624</td>\n",
       "      <td>-1.706889</td>\n",
       "      <td>-0.015100</td>\n",
       "      <td>0.644669</td>\n",
       "      <td>-0.245303</td>\n",
       "      <td>0.125758</td>\n",
       "      <td>-0.156508</td>\n",
       "      <td>0.277994</td>\n",
       "      <td>...</td>\n",
       "      <td>0.256304</td>\n",
       "      <td>0.862281</td>\n",
       "      <td>-0.063211</td>\n",
       "      <td>0.143339</td>\n",
       "      <td>0.361885</td>\n",
       "      <td>-0.124856</td>\n",
       "      <td>-0.025472</td>\n",
       "      <td>-0.066836</td>\n",
       "      <td>2.27</td>\n",
       "      <td>0</td>\n",
       "    </tr>\n",
       "    <tr>\n",
       "      <th>57351</th>\n",
       "      <td>172760</td>\n",
       "      <td>-6.713826</td>\n",
       "      <td>2.369104</td>\n",
       "      <td>-3.534768</td>\n",
       "      <td>-0.368259</td>\n",
       "      <td>-1.721030</td>\n",
       "      <td>-1.322808</td>\n",
       "      <td>-0.190876</td>\n",
       "      <td>0.891149</td>\n",
       "      <td>2.068476</td>\n",
       "      <td>...</td>\n",
       "      <td>0.131247</td>\n",
       "      <td>0.994246</td>\n",
       "      <td>-0.002140</td>\n",
       "      <td>-0.072979</td>\n",
       "      <td>-0.167159</td>\n",
       "      <td>-0.387271</td>\n",
       "      <td>-2.616341</td>\n",
       "      <td>0.474584</td>\n",
       "      <td>19.59</td>\n",
       "      <td>0</td>\n",
       "    </tr>\n",
       "    <tr>\n",
       "      <th>57352</th>\n",
       "      <td>172768</td>\n",
       "      <td>-2.076175</td>\n",
       "      <td>2.142238</td>\n",
       "      <td>-2.522704</td>\n",
       "      <td>-1.888063</td>\n",
       "      <td>1.982785</td>\n",
       "      <td>3.732950</td>\n",
       "      <td>-1.217430</td>\n",
       "      <td>-0.536644</td>\n",
       "      <td>0.272867</td>\n",
       "      <td>...</td>\n",
       "      <td>2.016666</td>\n",
       "      <td>-1.588269</td>\n",
       "      <td>0.588482</td>\n",
       "      <td>0.632444</td>\n",
       "      <td>-0.201064</td>\n",
       "      <td>0.199251</td>\n",
       "      <td>0.438657</td>\n",
       "      <td>0.172923</td>\n",
       "      <td>8.95</td>\n",
       "      <td>0</td>\n",
       "    </tr>\n",
       "    <tr>\n",
       "      <th>57353</th>\n",
       "      <td>172770</td>\n",
       "      <td>2.007418</td>\n",
       "      <td>-0.280235</td>\n",
       "      <td>-0.208113</td>\n",
       "      <td>0.335261</td>\n",
       "      <td>-0.715798</td>\n",
       "      <td>-0.751373</td>\n",
       "      <td>-0.458972</td>\n",
       "      <td>-0.140140</td>\n",
       "      <td>0.959971</td>\n",
       "      <td>...</td>\n",
       "      <td>-0.208260</td>\n",
       "      <td>-0.430347</td>\n",
       "      <td>0.416765</td>\n",
       "      <td>0.064819</td>\n",
       "      <td>-0.608337</td>\n",
       "      <td>0.268436</td>\n",
       "      <td>-0.028069</td>\n",
       "      <td>-0.041367</td>\n",
       "      <td>3.99</td>\n",
       "      <td>0</td>\n",
       "    </tr>\n",
       "    <tr>\n",
       "      <th>57354</th>\n",
       "      <td>172777</td>\n",
       "      <td>-1.266580</td>\n",
       "      <td>-0.400461</td>\n",
       "      <td>0.956221</td>\n",
       "      <td>-0.723919</td>\n",
       "      <td>1.531993</td>\n",
       "      <td>-1.788600</td>\n",
       "      <td>0.314741</td>\n",
       "      <td>0.004704</td>\n",
       "      <td>0.013857</td>\n",
       "      <td>...</td>\n",
       "      <td>-0.157831</td>\n",
       "      <td>-0.883365</td>\n",
       "      <td>0.088485</td>\n",
       "      <td>-0.076790</td>\n",
       "      <td>-0.095833</td>\n",
       "      <td>0.132720</td>\n",
       "      <td>-0.028468</td>\n",
       "      <td>0.126494</td>\n",
       "      <td>0.89</td>\n",
       "      <td>0</td>\n",
       "    </tr>\n",
       "  </tbody>\n",
       "</table>\n",
       "<p>57262 rows × 31 columns</p>\n",
       "</div>"
      ],
      "text/plain": [
       "         Time        V1        V2        V3        V4        V5        V6  \\\n",
       "0           2 -1.158233  0.877737  1.548718  0.403034 -0.407193  0.095921   \n",
       "1           2 -0.425966  0.960523  1.141109 -0.168252  0.420987 -0.029728   \n",
       "2           7 -0.644269  1.417964  1.074380 -0.492199  0.948934  0.428118   \n",
       "3          11  1.069374  0.287722  0.828613  2.712520 -0.178398  0.337544   \n",
       "4          12 -0.752417  0.345485  2.057323 -1.468643 -1.158394 -0.077850   \n",
       "...       ...       ...       ...       ...       ...       ...       ...   \n",
       "57350  172751  2.085387 -0.033624 -1.706889 -0.015100  0.644669 -0.245303   \n",
       "57351  172760 -6.713826  2.369104 -3.534768 -0.368259 -1.721030 -1.322808   \n",
       "57352  172768 -2.076175  2.142238 -2.522704 -1.888063  1.982785  3.732950   \n",
       "57353  172770  2.007418 -0.280235 -0.208113  0.335261 -0.715798 -0.751373   \n",
       "57354  172777 -1.266580 -0.400461  0.956221 -0.723919  1.531993 -1.788600   \n",
       "\n",
       "             V7        V8        V9  ...       V21       V22       V23  \\\n",
       "0      0.592941 -0.270533  0.817739  ... -0.009431  0.798278 -0.137458   \n",
       "1      0.476201  0.260314 -0.568671  ... -0.208254 -0.559825 -0.026398   \n",
       "2      1.120631 -3.807864  0.615375  ...  1.943465 -1.015455  0.057504   \n",
       "3     -0.096717  0.115982 -0.221083  ... -0.036876  0.074412 -0.071407   \n",
       "4     -0.608581  0.003603 -0.436167  ...  0.499625  1.353650 -0.256573   \n",
       "...         ...       ...       ...  ...       ...       ...       ...   \n",
       "57350  0.125758 -0.156508  0.277994  ...  0.256304  0.862281 -0.063211   \n",
       "57351 -0.190876  0.891149  2.068476  ...  0.131247  0.994246 -0.002140   \n",
       "57352 -1.217430 -0.536644  0.272867  ...  2.016666 -1.588269  0.588482   \n",
       "57353 -0.458972 -0.140140  0.959971  ... -0.208260 -0.430347  0.416765   \n",
       "57354  0.314741  0.004704  0.013857  ... -0.157831 -0.883365  0.088485   \n",
       "\n",
       "            V24       V25       V26       V27       V28  Amount  Class  \n",
       "0      0.141267 -0.206010  0.502292  0.219422  0.215153   69.99      0  \n",
       "1     -0.371427 -0.232794  0.105915  0.253844  0.081080    3.67      0  \n",
       "2     -0.649709 -0.415267 -0.051634 -1.206921 -1.085339   40.80      0  \n",
       "3      0.104744  0.548265  0.104094  0.021491  0.021293   27.50      0  \n",
       "4     -0.065084 -0.039124 -0.087086 -0.180998  0.129394   15.99      0  \n",
       "...         ...       ...       ...       ...       ...     ...    ...  \n",
       "57350  0.143339  0.361885 -0.124856 -0.025472 -0.066836    2.27      0  \n",
       "57351 -0.072979 -0.167159 -0.387271 -2.616341  0.474584   19.59      0  \n",
       "57352  0.632444 -0.201064  0.199251  0.438657  0.172923    8.95      0  \n",
       "57353  0.064819 -0.608337  0.268436 -0.028069 -0.041367    3.99      0  \n",
       "57354 -0.076790 -0.095833  0.132720 -0.028468  0.126494    0.89      0  \n",
       "\n",
       "[57262 rows x 31 columns]"
      ]
     },
     "execution_count": 18,
     "metadata": {},
     "output_type": "execute_result"
    }
   ],
   "source": [
    "credit"
   ]
  },
  {
   "cell_type": "code",
   "execution_count": 19,
   "id": "86b5b7f0",
   "metadata": {},
   "outputs": [],
   "source": [
    "X = credit.iloc[:, 0:-1]\n",
    "y = credit.iloc[:, -1]"
   ]
  },
  {
   "cell_type": "code",
   "execution_count": 20,
   "id": "935c9c5e",
   "metadata": {},
   "outputs": [
    {
     "data": {
      "text/html": [
       "<div>\n",
       "<style scoped>\n",
       "    .dataframe tbody tr th:only-of-type {\n",
       "        vertical-align: middle;\n",
       "    }\n",
       "\n",
       "    .dataframe tbody tr th {\n",
       "        vertical-align: top;\n",
       "    }\n",
       "\n",
       "    .dataframe thead th {\n",
       "        text-align: right;\n",
       "    }\n",
       "</style>\n",
       "<table border=\"1\" class=\"dataframe\">\n",
       "  <thead>\n",
       "    <tr style=\"text-align: right;\">\n",
       "      <th></th>\n",
       "      <th>Time</th>\n",
       "      <th>V1</th>\n",
       "      <th>V2</th>\n",
       "      <th>V3</th>\n",
       "      <th>V4</th>\n",
       "      <th>V5</th>\n",
       "      <th>V6</th>\n",
       "      <th>V7</th>\n",
       "      <th>V8</th>\n",
       "      <th>V9</th>\n",
       "      <th>...</th>\n",
       "      <th>V20</th>\n",
       "      <th>V21</th>\n",
       "      <th>V22</th>\n",
       "      <th>V23</th>\n",
       "      <th>V24</th>\n",
       "      <th>V25</th>\n",
       "      <th>V26</th>\n",
       "      <th>V27</th>\n",
       "      <th>V28</th>\n",
       "      <th>Amount</th>\n",
       "    </tr>\n",
       "  </thead>\n",
       "  <tbody>\n",
       "    <tr>\n",
       "      <th>0</th>\n",
       "      <td>2</td>\n",
       "      <td>-1.158233</td>\n",
       "      <td>0.877737</td>\n",
       "      <td>1.548718</td>\n",
       "      <td>0.403034</td>\n",
       "      <td>-0.407193</td>\n",
       "      <td>0.095921</td>\n",
       "      <td>0.592941</td>\n",
       "      <td>-0.270533</td>\n",
       "      <td>0.817739</td>\n",
       "      <td>...</td>\n",
       "      <td>0.408542</td>\n",
       "      <td>-0.009431</td>\n",
       "      <td>0.798278</td>\n",
       "      <td>-0.137458</td>\n",
       "      <td>0.141267</td>\n",
       "      <td>-0.206010</td>\n",
       "      <td>0.502292</td>\n",
       "      <td>0.219422</td>\n",
       "      <td>0.215153</td>\n",
       "      <td>69.99</td>\n",
       "    </tr>\n",
       "    <tr>\n",
       "      <th>1</th>\n",
       "      <td>2</td>\n",
       "      <td>-0.425966</td>\n",
       "      <td>0.960523</td>\n",
       "      <td>1.141109</td>\n",
       "      <td>-0.168252</td>\n",
       "      <td>0.420987</td>\n",
       "      <td>-0.029728</td>\n",
       "      <td>0.476201</td>\n",
       "      <td>0.260314</td>\n",
       "      <td>-0.568671</td>\n",
       "      <td>...</td>\n",
       "      <td>0.084968</td>\n",
       "      <td>-0.208254</td>\n",
       "      <td>-0.559825</td>\n",
       "      <td>-0.026398</td>\n",
       "      <td>-0.371427</td>\n",
       "      <td>-0.232794</td>\n",
       "      <td>0.105915</td>\n",
       "      <td>0.253844</td>\n",
       "      <td>0.081080</td>\n",
       "      <td>3.67</td>\n",
       "    </tr>\n",
       "    <tr>\n",
       "      <th>2</th>\n",
       "      <td>7</td>\n",
       "      <td>-0.644269</td>\n",
       "      <td>1.417964</td>\n",
       "      <td>1.074380</td>\n",
       "      <td>-0.492199</td>\n",
       "      <td>0.948934</td>\n",
       "      <td>0.428118</td>\n",
       "      <td>1.120631</td>\n",
       "      <td>-3.807864</td>\n",
       "      <td>0.615375</td>\n",
       "      <td>...</td>\n",
       "      <td>-0.156742</td>\n",
       "      <td>1.943465</td>\n",
       "      <td>-1.015455</td>\n",
       "      <td>0.057504</td>\n",
       "      <td>-0.649709</td>\n",
       "      <td>-0.415267</td>\n",
       "      <td>-0.051634</td>\n",
       "      <td>-1.206921</td>\n",
       "      <td>-1.085339</td>\n",
       "      <td>40.80</td>\n",
       "    </tr>\n",
       "    <tr>\n",
       "      <th>3</th>\n",
       "      <td>11</td>\n",
       "      <td>1.069374</td>\n",
       "      <td>0.287722</td>\n",
       "      <td>0.828613</td>\n",
       "      <td>2.712520</td>\n",
       "      <td>-0.178398</td>\n",
       "      <td>0.337544</td>\n",
       "      <td>-0.096717</td>\n",
       "      <td>0.115982</td>\n",
       "      <td>-0.221083</td>\n",
       "      <td>...</td>\n",
       "      <td>-0.153197</td>\n",
       "      <td>-0.036876</td>\n",
       "      <td>0.074412</td>\n",
       "      <td>-0.071407</td>\n",
       "      <td>0.104744</td>\n",
       "      <td>0.548265</td>\n",
       "      <td>0.104094</td>\n",
       "      <td>0.021491</td>\n",
       "      <td>0.021293</td>\n",
       "      <td>27.50</td>\n",
       "    </tr>\n",
       "    <tr>\n",
       "      <th>4</th>\n",
       "      <td>12</td>\n",
       "      <td>-0.752417</td>\n",
       "      <td>0.345485</td>\n",
       "      <td>2.057323</td>\n",
       "      <td>-1.468643</td>\n",
       "      <td>-1.158394</td>\n",
       "      <td>-0.077850</td>\n",
       "      <td>-0.608581</td>\n",
       "      <td>0.003603</td>\n",
       "      <td>-0.436167</td>\n",
       "      <td>...</td>\n",
       "      <td>0.263451</td>\n",
       "      <td>0.499625</td>\n",
       "      <td>1.353650</td>\n",
       "      <td>-0.256573</td>\n",
       "      <td>-0.065084</td>\n",
       "      <td>-0.039124</td>\n",
       "      <td>-0.087086</td>\n",
       "      <td>-0.180998</td>\n",
       "      <td>0.129394</td>\n",
       "      <td>15.99</td>\n",
       "    </tr>\n",
       "  </tbody>\n",
       "</table>\n",
       "<p>5 rows × 30 columns</p>\n",
       "</div>"
      ],
      "text/plain": [
       "   Time        V1        V2        V3        V4        V5        V6        V7  \\\n",
       "0     2 -1.158233  0.877737  1.548718  0.403034 -0.407193  0.095921  0.592941   \n",
       "1     2 -0.425966  0.960523  1.141109 -0.168252  0.420987 -0.029728  0.476201   \n",
       "2     7 -0.644269  1.417964  1.074380 -0.492199  0.948934  0.428118  1.120631   \n",
       "3    11  1.069374  0.287722  0.828613  2.712520 -0.178398  0.337544 -0.096717   \n",
       "4    12 -0.752417  0.345485  2.057323 -1.468643 -1.158394 -0.077850 -0.608581   \n",
       "\n",
       "         V8        V9  ...       V20       V21       V22       V23       V24  \\\n",
       "0 -0.270533  0.817739  ...  0.408542 -0.009431  0.798278 -0.137458  0.141267   \n",
       "1  0.260314 -0.568671  ...  0.084968 -0.208254 -0.559825 -0.026398 -0.371427   \n",
       "2 -3.807864  0.615375  ... -0.156742  1.943465 -1.015455  0.057504 -0.649709   \n",
       "3  0.115982 -0.221083  ... -0.153197 -0.036876  0.074412 -0.071407  0.104744   \n",
       "4  0.003603 -0.436167  ...  0.263451  0.499625  1.353650 -0.256573 -0.065084   \n",
       "\n",
       "        V25       V26       V27       V28  Amount  \n",
       "0 -0.206010  0.502292  0.219422  0.215153   69.99  \n",
       "1 -0.232794  0.105915  0.253844  0.081080    3.67  \n",
       "2 -0.415267 -0.051634 -1.206921 -1.085339   40.80  \n",
       "3  0.548265  0.104094  0.021491  0.021293   27.50  \n",
       "4 -0.039124 -0.087086 -0.180998  0.129394   15.99  \n",
       "\n",
       "[5 rows x 30 columns]"
      ]
     },
     "execution_count": 20,
     "metadata": {},
     "output_type": "execute_result"
    }
   ],
   "source": [
    "X.head()"
   ]
  },
  {
   "cell_type": "code",
   "execution_count": 21,
   "id": "181f0067",
   "metadata": {},
   "outputs": [
    {
     "data": {
      "text/plain": [
       "0    0\n",
       "1    0\n",
       "2    0\n",
       "3    0\n",
       "4    0\n",
       "Name: Class, dtype: int64"
      ]
     },
     "execution_count": 21,
     "metadata": {},
     "output_type": "execute_result"
    }
   ],
   "source": [
    "y.head()"
   ]
  },
  {
   "cell_type": "code",
   "execution_count": 22,
   "id": "37f280f4",
   "metadata": {},
   "outputs": [],
   "source": [
    "X_trainval, X_test, y_trainval, y_test = train_test_split(X, y, test_size=0.2, stratify=y, random_state=111) \n",
    "\n",
    "X_train, X_val, y_train, y_val = train_test_split(X_trainval, y_trainval, test_size=0.13, stratify=y_trainval, random_state=111)"
   ]
  },
  {
   "cell_type": "code",
   "execution_count": 23,
   "id": "b1c2a9ea",
   "metadata": {},
   "outputs": [
    {
     "name": "stdout",
     "output_type": "stream",
     "text": [
      "0.7\n",
      "0.1\n",
      "0.2\n"
     ]
    }
   ],
   "source": [
    "for dataset in [y_train, y_val, y_test]:\n",
    "    print(round(len(dataset) / len(y), 2))"
   ]
  },
  {
   "cell_type": "markdown",
   "id": "f8d7a44a",
   "metadata": {},
   "source": [
    "> 70% data is being used for training purpose, while 10% data is used for validation while 20% data is being used for testing of our model."
   ]
  },
  {
   "cell_type": "code",
   "execution_count": 24,
   "id": "e84091ed",
   "metadata": {},
   "outputs": [],
   "source": [
    "scaler = MinMaxScaler()\n",
    "\n",
    "X_train = scaler.fit_transform(X_train)\n",
    "X_val = scaler.transform(X_val)\n",
    "X_test = scaler.transform(X_test)\n",
    "\n",
    "X_train, y_train = np.array(X_train), np.array(y_train)\n",
    "X_val, y_val = np.array(X_val), np.array(y_val)\n",
    "X_test, y_test = np.array(X_test), np.array(y_test)"
   ]
  },
  {
   "cell_type": "code",
   "execution_count": 25,
   "id": "e9708e80",
   "metadata": {},
   "outputs": [
    {
     "data": {
      "text/plain": [
       "array([[3.53863518e-01, 9.67045628e-01, 6.52939947e-01, ...,\n",
       "        2.00635585e-01, 4.93367337e-01, 7.70693110e-05],\n",
       "       [4.43751809e-01, 9.39746907e-01, 6.67056517e-01, ...,\n",
       "        2.03956487e-01, 5.02707068e-01, 2.95821598e-05],\n",
       "       [5.15158882e-01, 8.65735372e-01, 6.62499829e-01, ...,\n",
       "        1.34790666e-01, 4.73197943e-01, 3.11391156e-03],\n",
       "       ...,\n",
       "       [2.09237715e-01, 9.66602675e-01, 6.47339139e-01, ...,\n",
       "        2.00559233e-01, 4.92973635e-01, 1.98628633e-03],\n",
       "       [3.76338485e-02, 9.65868989e-01, 6.36357458e-01, ...,\n",
       "        2.02162682e-01, 4.94276462e-01, 4.32522315e-03],\n",
       "       [2.51779823e-02, 8.93061987e-01, 6.76958988e-01, ...,\n",
       "        2.12811321e-01, 4.98899819e-01, 4.25827405e-04]])"
      ]
     },
     "execution_count": 25,
     "metadata": {},
     "output_type": "execute_result"
    }
   ],
   "source": [
    "X_train"
   ]
  },
  {
   "cell_type": "markdown",
   "id": "4a7f3582",
   "metadata": {},
   "source": [
    "## Handling Unbalanced Dataset:\n",
    "\n",
    "#### Visualize Class Distribution in Train, Val, and Test\n"
   ]
  },
  {
   "cell_type": "code",
   "execution_count": 26,
   "id": "5deee647",
   "metadata": {},
   "outputs": [],
   "source": [
    "def get_class_distribution(obj):\n",
    "    count_dict = {\n",
    "        \"Fraud\": 0,\n",
    "        \"Non_Fraud\": 0\n",
    "    }\n",
    "    \n",
    "    for i in obj:\n",
    "        if i == 0: \n",
    "            count_dict['Non_Fraud'] += 1\n",
    "        elif i == 1: \n",
    "            count_dict['Fraud'] += 1           \n",
    "        else:\n",
    "            print(\"Check classes.\")\n",
    "            \n",
    "    return count_dict"
   ]
  },
  {
   "cell_type": "code",
   "execution_count": 27,
   "id": "1b129250",
   "metadata": {},
   "outputs": [
    {
     "data": {
      "text/plain": [
       "Text(0.5, 1.0, 'Class Distribution in Test Set')"
      ]
     },
     "execution_count": 27,
     "metadata": {},
     "output_type": "execute_result"
    },
    {
     "data": {
      "image/png": "[encoded data removed]",
      "text/plain": [
       "<Figure size 1800x504 with 3 Axes>"
      ]
     },
     "metadata": {
      "needs_background": "light"
     },
     "output_type": "display_data"
    }
   ],
   "source": [
    "fig, axes = plt.subplots(nrows=1, ncols=3, figsize=(25,7))\n",
    "\n",
    "# Train\n",
    "sns.barplot(data = pd.DataFrame.from_dict([get_class_distribution(y_train)]).melt(), x = \"variable\", y=\"value\", hue=\"variable\",  ax=axes[0]).set_title('Class Distribution in Train Set')\n",
    "\n",
    "# Validation\n",
    "sns.barplot(data = pd.DataFrame.from_dict([get_class_distribution(y_val)]).melt(), x = \"variable\", y=\"value\", hue=\"variable\",  ax=axes[1]).set_title('Class Distribution in Val Set')\n",
    "\n",
    "# Test\n",
    "sns.barplot(data = pd.DataFrame.from_dict([get_class_distribution(y_test)]).melt(), x = \"variable\", y=\"value\", hue=\"variable\",  ax=axes[2]).set_title('Class Distribution in Test Set')"
   ]
  },
  {
   "cell_type": "markdown",
   "id": "e5739b58",
   "metadata": {},
   "source": [
    "Here, we can see that, the fraud class has been equally divided into equal class distribution amoung the datasets. We have successfully handled our imbalanced dataset."
   ]
  },
  {
   "cell_type": "markdown",
   "id": "04a97ea0",
   "metadata": {},
   "source": [
    "### Devloping Neural Network Model\n",
    "\n",
    "Here, to build a Neural Network, we will be using the Pytorch library. For that, we need to build a custom dataloader and we also have used weighted sampling process to get the data to the Neural Network. "
   ]
  },
  {
   "cell_type": "code",
   "execution_count": 28,
   "id": "a0e0bda2",
   "metadata": {},
   "outputs": [],
   "source": [
    "class ClassifierDataset(Dataset):\n",
    "    \n",
    "    def __init__(self, X_data, y_data):\n",
    "        self.X_data = X_data\n",
    "        self.y_data = y_data\n",
    "        \n",
    "    def __getitem__(self, index):\n",
    "        return self.X_data[index], self.y_data[index]\n",
    "        \n",
    "    def __len__ (self):\n",
    "        return len(self.X_data)\n",
    "\n",
    "\n",
    "train_dataset = ClassifierDataset(torch.from_numpy(X_train).float(), torch.from_numpy(y_train).long())\n",
    "val_dataset = ClassifierDataset(torch.from_numpy(X_val).float(), torch.from_numpy(y_val).long())\n",
    "test_dataset = ClassifierDataset(torch.from_numpy(X_test).float(), torch.from_numpy(y_test).long())"
   ]
  },
  {
   "cell_type": "markdown",
   "id": "274dec80",
   "metadata": {},
   "source": [
    "### Weighted Sampling"
   ]
  },
  {
   "cell_type": "code",
   "execution_count": 29,
   "id": "adf4b884",
   "metadata": {},
   "outputs": [],
   "source": [
    "target_list = []\n",
    "for _, t in train_dataset:\n",
    "    target_list.append(t)\n",
    "    \n",
    "target_list = torch.tensor(target_list)\n",
    "target_list = target_list[torch.randperm(len(target_list))]"
   ]
  },
  {
   "cell_type": "code",
   "execution_count": 30,
   "id": "eefcb585",
   "metadata": {},
   "outputs": [
    {
     "name": "stdout",
     "output_type": "stream",
     "text": [
      "tensor([3.0395e-03, 2.5301e-05])\n"
     ]
    }
   ],
   "source": [
    "class_count = [i for i in get_class_distribution(y_train).values()]\n",
    "class_weights = 1./torch.tensor(class_count, dtype=torch.float) \n",
    "\n",
    "print(class_weights)"
   ]
  },
  {
   "cell_type": "code",
   "execution_count": 31,
   "id": "461d5983",
   "metadata": {},
   "outputs": [],
   "source": [
    "class_weights_all = class_weights[target_list]"
   ]
  },
  {
   "cell_type": "code",
   "execution_count": 32,
   "id": "e81aef31",
   "metadata": {},
   "outputs": [],
   "source": [
    "weighted_sampler = WeightedRandomSampler(\n",
    "    weights=class_weights_all,\n",
    "    num_samples=len(class_weights_all),\n",
    "    replacement=True\n",
    ")"
   ]
  },
  {
   "cell_type": "markdown",
   "id": "5a4fa1e7",
   "metadata": {},
   "source": [
    "### Necessary Parameters for the DataLoader and Neural Network"
   ]
  },
  {
   "cell_type": "code",
   "execution_count": 33,
   "id": "1a77242b",
   "metadata": {},
   "outputs": [],
   "source": [
    "EPOCHS = 40\n",
    "BATCH_SIZE = 50\n",
    "LEARNING_RATE = 0.001\n",
    "NUM_FEATURES = len(X.columns)\n",
    "NUM_CLASSES = 2"
   ]
  },
  {
   "cell_type": "code",
   "execution_count": 34,
   "id": "48c600fa",
   "metadata": {},
   "outputs": [],
   "source": [
    "train_loader = DataLoader(dataset=train_dataset,\n",
    "                          batch_size=BATCH_SIZE,\n",
    "                          sampler=weighted_sampler)\n",
    "\n",
    "val_loader = DataLoader(dataset=val_dataset, batch_size=1)\n",
    "test_loader = DataLoader(dataset=test_dataset, batch_size=1)"
   ]
  },
  {
   "cell_type": "markdown",
   "id": "70f5b7e4",
   "metadata": {},
   "source": [
    "### Defining a NN Architecture: "
   ]
  },
  {
   "cell_type": "code",
   "execution_count": 35,
   "id": "43ba5faf",
   "metadata": {},
   "outputs": [],
   "source": [
    "class MulticlassClassification(nn.Module):\n",
    "    def __init__(self, num_feature, num_class):\n",
    "        super(MulticlassClassification, self).__init__()\n",
    "        \n",
    "        self.layer_1 = nn.Linear(num_feature, 512)\n",
    "        self.layer_2 = nn.Linear(512, 128)\n",
    "        self.layer_3 = nn.Linear(128, 64)\n",
    "        self.layer_out = nn.Linear(64, num_class) \n",
    "        \n",
    "        self.relu = nn.ReLU()\n",
    "        self.dropout = nn.Dropout(p=0.2)\n",
    "        self.batchnorm1 = nn.BatchNorm1d(512)\n",
    "        self.batchnorm2 = nn.BatchNorm1d(128)\n",
    "        self.batchnorm3 = nn.BatchNorm1d(64)\n",
    "        \n",
    "    def forward(self, x):\n",
    "        x = self.layer_1(x)\n",
    "        x = self.batchnorm1(x)\n",
    "        x = self.relu(x)\n",
    "        \n",
    "        x = self.layer_2(x)\n",
    "        x = self.batchnorm2(x)\n",
    "        x = self.relu(x)\n",
    "        x = self.dropout(x)\n",
    "        \n",
    "        x = self.layer_3(x)\n",
    "        x = self.batchnorm3(x)\n",
    "        x = self.relu(x)\n",
    "        x = self.dropout(x)\n",
    "        \n",
    "        x = self.layer_out(x)\n",
    "        \n",
    "        return x"
   ]
  },
  {
   "cell_type": "markdown",
   "id": "d4756028",
   "metadata": {},
   "source": [
    "### Using GPU to run the NN"
   ]
  },
  {
   "cell_type": "code",
   "execution_count": 36,
   "id": "3f74dca3",
   "metadata": {},
   "outputs": [
    {
     "name": "stdout",
     "output_type": "stream",
     "text": [
      "cuda:0\n"
     ]
    }
   ],
   "source": [
    "device = torch.device(\"cuda:0\" if torch.cuda.is_available() else \"cpu\")\n",
    "print(device)"
   ]
  },
  {
   "cell_type": "code",
   "execution_count": 37,
   "id": "c8538500",
   "metadata": {},
   "outputs": [],
   "source": [
    "model = MulticlassClassification(num_feature = NUM_FEATURES, num_class=NUM_CLASSES)"
   ]
  },
  {
   "cell_type": "markdown",
   "id": "ed83d483",
   "metadata": {},
   "source": [
    "## Architecture of the NN model"
   ]
  },
  {
   "cell_type": "code",
   "execution_count": 38,
   "id": "98adf734",
   "metadata": {},
   "outputs": [
    {
     "name": "stdout",
     "output_type": "stream",
     "text": [
      "MulticlassClassification(\n",
      "  (layer_1): Linear(in_features=30, out_features=512, bias=True)\n",
      "  (layer_2): Linear(in_features=512, out_features=128, bias=True)\n",
      "  (layer_3): Linear(in_features=128, out_features=64, bias=True)\n",
      "  (layer_out): Linear(in_features=64, out_features=2, bias=True)\n",
      "  (relu): ReLU()\n",
      "  (dropout): Dropout(p=0.2, inplace=False)\n",
      "  (batchnorm1): BatchNorm1d(512, eps=1e-05, momentum=0.1, affine=True, track_running_stats=True)\n",
      "  (batchnorm2): BatchNorm1d(128, eps=1e-05, momentum=0.1, affine=True, track_running_stats=True)\n",
      "  (batchnorm3): BatchNorm1d(64, eps=1e-05, momentum=0.1, affine=True, track_running_stats=True)\n",
      ")\n"
     ]
    }
   ],
   "source": [
    "model.to(device)\n",
    "criterion = nn.CrossEntropyLoss(weight=class_weights.to(device))\n",
    "optimizer = optim.Adam(model.parameters(), lr=LEARNING_RATE)\n",
    "print(model)"
   ]
  },
  {
   "cell_type": "code",
   "execution_count": 39,
   "id": "07760639",
   "metadata": {},
   "outputs": [],
   "source": [
    "# pytorch does not have any way of tracking the accuracy so making a custom accuracy measurement function \n",
    "\n",
    "def multi_acc(y_pred, y_test):\n",
    "    y_pred_softmax = torch.log_softmax(y_pred, dim = 1)\n",
    "    _, y_pred_tags = torch.max(y_pred_softmax, dim = 1)    \n",
    "    \n",
    "    correct_pred = (y_pred_tags == y_test).float()\n",
    "    acc = correct_pred.sum() / len(correct_pred)\n",
    "    \n",
    "    acc = torch.round(acc * 100)\n",
    "    \n",
    "    return acc"
   ]
  },
  {
   "cell_type": "code",
   "execution_count": 40,
   "id": "a80650c5",
   "metadata": {},
   "outputs": [],
   "source": [
    "accuracy_stats = {\n",
    "    'train': [],\n",
    "    \"val\": []\n",
    "}\n",
    "loss_stats = {\n",
    "    'train': [],\n",
    "    \"val\": []\n",
    "}"
   ]
  },
  {
   "cell_type": "markdown",
   "id": "f5d5587e",
   "metadata": {},
   "source": [
    "### Training the NN Model"
   ]
  },
  {
   "cell_type": "code",
   "execution_count": 41,
   "id": "90a341d7",
   "metadata": {
    "scrolled": false
   },
   "outputs": [
    {
     "name": "stdout",
     "output_type": "stream",
     "text": [
      "Begin training.\n"
     ]
    },
    {
     "data": {
      "application/vnd.jupyter.widget-view+json": {
       "model_id": "cd341ad6153c4e6486aaccd5335fa01f",
       "version_major": 2,
       "version_minor": 0
      },
      "text/plain": [
       "  0%|          | 0/40 [00:00<?, ?it/s]"
      ]
     },
     "metadata": {},
     "output_type": "display_data"
    },
    {
     "name": "stdout",
     "output_type": "stream",
     "text": [
      "Epoch 001: | Train Loss: 0.02956 | Val Loss: 0.02698 | Train Acc: 98.752| Val Acc: 99.177\n",
      "Epoch 002: | Train Loss: 0.00083 | Val Loss: 0.02584 | Train Acc: 99.195| Val Acc: 99.429\n",
      "Epoch 003: | Train Loss: 0.00055 | Val Loss: 0.02737 | Train Acc: 99.148| Val Acc: 99.345\n",
      "Epoch 004: | Train Loss: 0.00036 | Val Loss: 0.02390 | Train Acc: 99.301| Val Acc: 99.177\n",
      "Epoch 005: | Train Loss: 0.00031 | Val Loss: 0.03597 | Train Acc: 99.313| Val Acc: 99.177\n",
      "Epoch 006: | Train Loss: 0.00031 | Val Loss: 0.02999 | Train Acc: 99.178| Val Acc: 99.177\n",
      "Epoch 007: | Train Loss: 0.00029 | Val Loss: 0.03079 | Train Acc: 99.258| Val Acc: 99.177\n",
      "Epoch 008: | Train Loss: 0.00027 | Val Loss: 0.02609 | Train Acc: 99.218| Val Acc: 99.412\n",
      "Epoch 009: | Train Loss: 0.00028 | Val Loss: 0.02476 | Train Acc: 99.296| Val Acc: 99.631\n",
      "Epoch 010: | Train Loss: 0.00034 | Val Loss: 0.03108 | Train Acc: 99.368| Val Acc: 99.177\n",
      "Epoch 011: | Train Loss: 0.00027 | Val Loss: 0.02904 | Train Acc: 99.211| Val Acc: 99.530\n",
      "Epoch 012: | Train Loss: 0.00036 | Val Loss: 0.03194 | Train Acc: 99.353| Val Acc: 99.177\n",
      "Epoch 013: | Train Loss: 0.00023 | Val Loss: 0.02162 | Train Acc: 99.346| Val Acc: 99.631\n",
      "Epoch 014: | Train Loss: 0.00028 | Val Loss: 0.02805 | Train Acc: 99.573| Val Acc: 99.429\n",
      "Epoch 015: | Train Loss: 0.00023 | Val Loss: 0.02430 | Train Acc: 99.544| Val Acc: 99.614\n",
      "Epoch 016: | Train Loss: 0.00020 | Val Loss: 0.04552 | Train Acc: 99.684| Val Acc: 99.446\n",
      "Epoch 017: | Train Loss: 0.00025 | Val Loss: 0.02391 | Train Acc: 99.632| Val Acc: 99.513\n",
      "Epoch 018: | Train Loss: 0.00026 | Val Loss: 0.02886 | Train Acc: 99.531| Val Acc: 99.379\n",
      "Epoch 019: | Train Loss: 0.00023 | Val Loss: 0.01973 | Train Acc: 99.536| Val Acc: 99.597\n",
      "Epoch 020: | Train Loss: 0.00016 | Val Loss: 0.02704 | Train Acc: 99.747| Val Acc: 99.597\n",
      "Epoch 021: | Train Loss: 0.00028 | Val Loss: 0.02361 | Train Acc: 99.401| Val Acc: 99.328\n",
      "Epoch 022: | Train Loss: 0.00017 | Val Loss: 0.02068 | Train Acc: 99.596| Val Acc: 99.715\n",
      "Epoch 023: | Train Loss: 0.00023 | Val Loss: 0.02194 | Train Acc: 99.712| Val Acc: 99.647\n",
      "Epoch 024: | Train Loss: 0.00024 | Val Loss: 0.03035 | Train Acc: 99.622| Val Acc: 99.513\n",
      "Epoch 025: | Train Loss: 0.00022 | Val Loss: 0.02469 | Train Acc: 99.476| Val Acc: 99.328\n",
      "Epoch 026: | Train Loss: 0.00020 | Val Loss: 0.02181 | Train Acc: 99.511| Val Acc: 99.664\n",
      "Epoch 027: | Train Loss: 0.00018 | Val Loss: 0.02489 | Train Acc: 99.669| Val Acc: 99.647\n",
      "Epoch 028: | Train Loss: 0.00013 | Val Loss: 0.02255 | Train Acc: 99.797| Val Acc: 99.715\n",
      "Epoch 029: | Train Loss: 0.00024 | Val Loss: 0.03390 | Train Acc: 99.774| Val Acc: 99.345\n",
      "Epoch 030: | Train Loss: 0.00019 | Val Loss: 0.02545 | Train Acc: 99.574| Val Acc: 99.480\n",
      "Epoch 031: | Train Loss: 0.00015 | Val Loss: 0.02774 | Train Acc: 99.727| Val Acc: 99.530\n",
      "Epoch 032: | Train Loss: 0.00012 | Val Loss: 0.02970 | Train Acc: 99.757| Val Acc: 99.597\n",
      "Epoch 033: | Train Loss: 0.00015 | Val Loss: 0.02614 | Train Acc: 99.752| Val Acc: 99.681\n",
      "Epoch 034: | Train Loss: 0.00019 | Val Loss: 0.03450 | Train Acc: 99.612| Val Acc: 99.530\n",
      "Epoch 035: | Train Loss: 0.00012 | Val Loss: 0.02373 | Train Acc: 99.779| Val Acc: 99.647\n",
      "Epoch 036: | Train Loss: 0.00017 | Val Loss: 0.02534 | Train Acc: 99.682| Val Acc: 99.664\n",
      "Epoch 037: | Train Loss: 0.00014 | Val Loss: 0.01980 | Train Acc: 99.774| Val Acc: 99.681\n",
      "Epoch 038: | Train Loss: 0.00020 | Val Loss: 0.03812 | Train Acc: 99.714| Val Acc: 99.446\n",
      "Epoch 039: | Train Loss: 0.00018 | Val Loss: 0.02538 | Train Acc: 99.602| Val Acc: 99.647\n",
      "Epoch 040: | Train Loss: 0.00014 | Val Loss: 0.02390 | Train Acc: 99.702| Val Acc: 99.698\n"
     ]
    }
   ],
   "source": [
    "print(\"Begin training.\")\n",
    "for e in tqdm(range(1, EPOCHS+1)):\n",
    "    \n",
    "    train_epoch_loss = 0\n",
    "    train_epoch_acc = 0\n",
    "    model.train()\n",
    "    for X_train_batch, y_train_batch in train_loader:\n",
    "        \n",
    "        \n",
    "        X_train_batch, y_train_batch = X_train_batch.to(device), y_train_batch.to(device)\n",
    "        \n",
    "        optimizer.zero_grad()\n",
    "        \n",
    "        y_train_pred = model(X_train_batch)\n",
    "        train_loss = criterion(y_train_pred, y_train_batch)\n",
    "        train_acc = multi_acc(y_train_pred, y_train_batch)\n",
    "        train_loss.backward()\n",
    "        optimizer.step()\n",
    "        \n",
    "        train_epoch_loss += train_loss.item()\n",
    "        train_epoch_acc += train_acc.item()\n",
    "        \n",
    "        \n",
    "    with torch.no_grad():\n",
    "        \n",
    "        val_epoch_loss = 0\n",
    "        val_epoch_acc = 0\n",
    "        \n",
    "        model.eval()\n",
    "        for X_val_batch, y_val_batch in val_loader:\n",
    "            \n",
    "            \n",
    "            X_val_batch, y_val_batch = X_val_batch.to(device), y_val_batch.to(device)\n",
    "            \n",
    "            y_val_pred = model(X_val_batch)\n",
    "                        \n",
    "            val_loss = criterion(y_val_pred, y_val_batch)\n",
    "            val_acc = multi_acc(y_val_pred, y_val_batch)\n",
    "            \n",
    "            val_epoch_loss += val_loss.item()\n",
    "            val_epoch_acc += val_acc.item()\n",
    "            \n",
    "    loss_stats['train'].append(train_epoch_loss/len(train_loader))\n",
    "    loss_stats['val'].append(val_epoch_loss/len(val_loader))\n",
    "    \n",
    "    accuracy_stats['train'].append(train_epoch_acc/len(train_loader))\n",
    "    accuracy_stats['val'].append(val_epoch_acc/len(val_loader))\n",
    "                              \n",
    "    # print statistics\n",
    "    print(f'Epoch {e+0:03}: | Train Loss: {train_epoch_loss/len(train_loader):.5f} | Val Loss: {val_epoch_loss/len(val_loader):.5f} | Train Acc: {train_epoch_acc/len(train_loader):.3f}| Val Acc: {val_epoch_acc/len(val_loader):.3f}')"
   ]
  },
  {
   "cell_type": "markdown",
   "id": "1528f1f9",
   "metadata": {},
   "source": [
    "Here, we can see that, we were able to bring down the train loss and validation loss quite down in each iteration. While the training accuracy and validation accuracy was high in the range of 99.6% range. This might be the case of overfitting or our model is quite good at classifing the class quite accurately. This will be clear in the testing phase of our process. The possibility of overfitting is quite low as we have used both the dropout method and normalization method to prevent it. "
   ]
  },
  {
   "cell_type": "code",
   "execution_count": 42,
   "id": "c866e6a1",
   "metadata": {
    "scrolled": false
   },
   "outputs": [
    {
     "data": {
      "text/plain": [
       "Text(0.5, 1.0, 'Train-Val Loss/Epoch')"
      ]
     },
     "execution_count": 42,
     "metadata": {},
     "output_type": "execute_result"
    },
    {
     "data": {
      "image/png": "[encoded data removed]",
      "text/plain": [
       "<Figure size 1440x504 with 2 Axes>"
      ]
     },
     "metadata": {
      "needs_background": "light"
     },
     "output_type": "display_data"
    }
   ],
   "source": [
    "# Results dataframe\n",
    "train_val_acc = pd.DataFrame.from_dict(accuracy_stats).reset_index().melt(id_vars=['index']).rename(columns={\"index\":\"epochs\"})\n",
    "train_val_loss = pd.DataFrame.from_dict(loss_stats).reset_index().melt(id_vars=['index']).rename(columns={\"index\":\"epochs\"})\n",
    "\n",
    "# Visualize dataframes\n",
    "fig, axes = plt.subplots(nrows=1, ncols=2, figsize=(20,7))\n",
    "sns.lineplot(data=train_val_acc, x = \"epochs\", y=\"value\", hue=\"variable\",  ax=axes[0]).set_title('Train-Val Accuracy/Epoch')\n",
    "sns.lineplot(data=train_val_loss, x = \"epochs\", y=\"value\", hue=\"variable\", ax=axes[1]).set_title('Train-Val Loss/Epoch')"
   ]
  },
  {
   "cell_type": "markdown",
   "id": "5fc58456",
   "metadata": {},
   "source": [
    "The training accuracy and validation accuracy are relatively close to each other and are in the range of 99% meaning our model is quite good at correctly identifying the classes but the train-val loss curve has a huge gap meaning the model might have been overfitting. "
   ]
  },
  {
   "cell_type": "markdown",
   "id": "e59daac3",
   "metadata": {},
   "source": [
    "### Testing the Model"
   ]
  },
  {
   "cell_type": "code",
   "execution_count": 43,
   "id": "0a4703ae",
   "metadata": {},
   "outputs": [],
   "source": [
    "y_pred_list = []\n",
    "\n",
    "with torch.no_grad():\n",
    "    \n",
    "    model.eval()\n",
    "    \n",
    "    for X_batch, _ in test_loader:\n",
    "        X_batch = X_batch.to(device)\n",
    "        y_test_pred = model(X_batch)\n",
    "        _, y_pred_tags = torch.max(y_test_pred, dim = 1)\n",
    "        y_pred_list.append(y_pred_tags.cpu().numpy())\n",
    "        \n",
    "y_pred_list = [a.squeeze().tolist() for a in y_pred_list]"
   ]
  },
  {
   "cell_type": "markdown",
   "id": "9ec30d0f",
   "metadata": {},
   "source": [
    "### Confusion Matrix to better under the Test Result"
   ]
  },
  {
   "cell_type": "code",
   "execution_count": 44,
   "id": "db2082af",
   "metadata": {
    "scrolled": true
   },
   "outputs": [
    {
     "data": {
      "text/plain": [
       "<AxesSubplot:>"
      ]
     },
     "execution_count": 44,
     "metadata": {},
     "output_type": "execute_result"
    },
    {
     "data": {
      "image/png": "[encoded data removed]",
      "text/plain": [
       "<Figure size 432x288 with 2 Axes>"
      ]
     },
     "metadata": {
      "needs_background": "light"
     },
     "output_type": "display_data"
    }
   ],
   "source": [
    "confusion_matrix_df = pd.DataFrame(confusion_matrix(y_test, y_pred_list))\n",
    "sns.heatmap(confusion_matrix_df, annot=True)"
   ]
  },
  {
   "cell_type": "markdown",
   "id": "e0fedd73",
   "metadata": {},
   "source": [
    "From the confusion matrix, we can clearly see that, our model was able to accurately classify our 0 label almost most of the time, but was not able to classify 2 of the 0 label. While for the 1 lable which is for fraud, our model was able to identify, 69 times while 26 time it classify it worngly as 1."
   ]
  },
  {
   "cell_type": "code",
   "execution_count": 58,
   "id": "8842dee1",
   "metadata": {},
   "outputs": [
    {
     "name": "stdout",
     "output_type": "stream",
     "text": [
      "Overall Model : Accuracy: 0.9976 / Precision: 0.9718 / Recall: 0.7263 \n",
      "\n",
      "\n",
      "              precision    recall  f1-score   support\n",
      "\n",
      "           0       1.00      1.00      1.00     11358\n",
      "           1       0.97      0.73      0.83        95\n",
      "\n",
      "    accuracy                           1.00     11453\n",
      "   macro avg       0.98      0.86      0.92     11453\n",
      "weighted avg       1.00      1.00      1.00     11453\n",
      "\n"
     ]
    }
   ],
   "source": [
    "from sklearn.metrics import accuracy_score, precision_score, recall_score,classification_report\n",
    "\n",
    "\n",
    "accuracy = round(accuracy_score(y_test, y_pred_list), 4)\n",
    "precision = round(precision_score(y_test, y_pred_list), 4)\n",
    "recall = round(recall_score(y_test, y_pred_list), 4)\n",
    "\n",
    "print('Overall Model : Accuracy: {} / Precision: {} / Recall: {} '.format(accuracy,precision,recall))\n",
    "print(\"\\n\")\n",
    "\n",
    "print(classification_report(y_test, y_pred_list))"
   ]
  },
  {
   "cell_type": "markdown",
   "id": "029ada50",
   "metadata": {},
   "source": [
    "We were able to get high overall accuracy and precision from our model but the recall is lagging behind. This is due to miss classification of the label 0 as 1. If we want to increase the recall number, we might have to take a hit in the precision of the model.\n",
    "\n",
    "Accuracy is the easiest classification metrics to understand. It tells us how many prediction we got right out of total prediction. Here in our test dataset, we got an accuracy of 0.9976. Here, we have like 99.76% change to correctly guess which 2 classes are we predicting.\n",
    "\n",
    "Precision also called positive predictive value. It tells us if the positive value is predicted then how often is the prediction is correct. It can also be said as measure of quality. It is the number of true positive divided by the total number of elements labelled as being in the positive class. Here, form our model, we got a precision of 0.9718  meaning our model was able to predict positive values 97% of the time correctly.\n",
    "\n",
    "Recall also know as True Positive Rate or Sensitivity tells us when the actual value is positive how often is the prediction correct. It is a measure of quantity. Recall is calculated by dividing the total number of true positive by the total number of elements that are actually positive class. Here, we got a recall of 0.72 which means our model is very poor at predicting the actual positive values.\n",
    "\n",
    "### Conclusion:\n",
    "\n",
    "Our model was able to classify the non-fraudulent case quite nicely with almost 100% accuracy, precison and recall as it has a lot of data to learn with but the same cannot be said for the fraudulent case, as it had very less data to learn with. However, it gave us a high precision with not quite high recall. \n",
    "\n",
    "For the financial case, it is really important to detect the fraud cases, which means for the model to work quite right to detect the fraud cases, we need to increase the recall of the model with some hit on precision. Because, classifying the fraud case is much more important than miss classifying the non-fraud cases as fraud."
   ]
  }
 ],
 "metadata": {
  "kernelspec": {
   "display_name": "Python 3 (ipykernel)",
   "language": "python",
   "name": "python3"
  },
  "language_info": {
   "codemirror_mode": {
    "name": "ipython",
    "version": 3
   },
   "file_extension": ".py",
   "mimetype": "text/x-python",
   "name": "python",
   "nbconvert_exporter": "python",
   "pygments_lexer": "ipython3",
   "version": "3.8.15"
  }
 },
 "nbformat": 4,
 "nbformat_minor": 5
}
